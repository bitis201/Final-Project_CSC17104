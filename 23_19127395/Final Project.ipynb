{
 "cells": [
  {
   "cell_type": "markdown",
   "id": "4ec9f6b1",
   "metadata": {},
   "source": [
    "# FINAL PROJECT\n",
    "### [Link Github](https://github.com/bitis201/Final-Project_CSC17104)"
   ]
  },
  {
   "cell_type": "markdown",
   "id": "ff1f0d07",
   "metadata": {},
   "source": [
    "### Library"
   ]
  },
  {
   "cell_type": "code",
   "execution_count": 1,
   "id": "6b822fd8",
   "metadata": {},
   "outputs": [],
   "source": [
    "import pandas as pd\n",
    "import numpy as np\n",
    "import matplotlib.pyplot as plt\n",
    "\n",
    "import matplotlib"
   ]
  },
  {
   "cell_type": "markdown",
   "id": "8b63170a",
   "metadata": {},
   "source": [
    "## 1. Collecting data\n",
    "\n",
    "• **What subject is your data about? What is the source of\n",
    "your data?**\n",
    "- Data is about top 1000 movies and TV shows according to IMDB rating\n",
    "- Source can be found [here](https://www.kaggle.com/datasets/anujsingh098/top-1000-imdb-movies?resource=download)\n",
    "- Description about data has 1 files, 16 columns.\n",
    "\n",
    "• **Do authors of this data allow you to use like this? You\n",
    "can check the data license**\n",
    "- It's on kaggle so it is okay to use the data for my project, i have checked [here](https://www.kaggle.com/general/9893)\n",
    "- License: `CC0: Public Domain`\n",
    "\n",
    "• **How did authors collect data?**\n",
    "- Data is obtained by 2 authors.\n",
    "- They collect data from https://media-amazon.com/ by using SeriesTitle"
   ]
  },
  {
   "cell_type": "markdown",
   "id": "28d0c1b8",
   "metadata": {},
   "source": [
    "## 2. Exploring data (often interleaved with preprocessing)\n",
    "• How many rows and how many columns?\n",
    "\n",
    "• What is the meaning of each row?\n",
    "\n",
    "• Are there `duplicated rows`?\n",
    "\n",
    "• What is the meaning of each column?\n",
    "\n",
    "\n",
    "• What is the current data type of each column? Are there columns having `inappropriate data types`?\n",
    "\n",
    "• With each numerical column, how are values distributed?\n",
    "\n",
    "    - What is the percentage of missing values?\n",
    "    - Min? max? Are they abnormal?\n",
    "\n",
    "• With each categorical column, how are values distributed?\n",
    "    \n",
    "    - What is the percentage of missing values?\n",
    "    - How many different values? Show a few.\n",
    "    - Are they abnormal?"
   ]
  },
  {
   "cell_type": "markdown",
   "id": "76826090",
   "metadata": {},
   "source": [
    "### Read csv into Dataframe"
   ]
  },
  {
   "cell_type": "code",
   "execution_count": 2,
   "id": "e8069a88",
   "metadata": {},
   "outputs": [],
   "source": [
    "movies = pd.read_csv('data/imdb_top_1000.csv')"
   ]
  },
  {
   "cell_type": "markdown",
   "id": "d05403d1",
   "metadata": {},
   "source": [
    "### How many rows and how many columns?"
   ]
  },
  {
   "cell_type": "code",
   "execution_count": 3,
   "id": "f3884342",
   "metadata": {},
   "outputs": [
    {
     "name": "stdout",
     "output_type": "stream",
     "text": [
      "rows:1000\n",
      "columns:16\n"
     ]
    }
   ],
   "source": [
    "print(\"rows:\"+ str(movies.shape[0]))\n",
    "print(\"columns:\"+ str(movies.shape[1]))"
   ]
  },
  {
   "cell_type": "markdown",
   "id": "49cc9f24",
   "metadata": {},
   "source": [
    "### What is the meaning of each row?"
   ]
  },
  {
   "cell_type": "markdown",
   "id": "afcf3104",
   "metadata": {},
   "source": [
    "Each row is a pack of information of a single movie"
   ]
  },
  {
   "cell_type": "markdown",
   "id": "a01001a9",
   "metadata": {},
   "source": [
    "### Are there `duplicated rows`?"
   ]
  },
  {
   "cell_type": "code",
   "execution_count": 4,
   "id": "e57ad158",
   "metadata": {},
   "outputs": [
    {
     "data": {
      "text/plain": [
       "False"
      ]
     },
     "execution_count": 4,
     "metadata": {},
     "output_type": "execute_result"
    }
   ],
   "source": [
    "duplicated_rows = movies.duplicated().any()\n",
    "duplicated_rows"
   ]
  },
  {
   "cell_type": "markdown",
   "id": "1b851834",
   "metadata": {},
   "source": [
    "There isn't duplicated row."
   ]
  },
  {
   "cell_type": "markdown",
   "id": "007aaae0",
   "metadata": {},
   "source": [
    "### What is the meaning of each column?"
   ]
  },
  {
   "cell_type": "markdown",
   "id": "d1d662df",
   "metadata": {},
   "source": [
    "- `PosterLink` - Link of the poster that imdb using SeriesTitle = Name of the movie\n",
    "- `SeriesTitle` = Name of the movie\n",
    "- `ReleasedYear` - Year at which that movie released \n",
    "- `Certificate` - Certificate earned by that movie \n",
    "- `Runtime` - Total runtime of the movie \n",
    "- `Genre` - Genre of the movie \n",
    "- `IMDBRating` - Rating of the movie at IMDB site\n",
    "- `Overview` - mini story/ summary\n",
    "- `Meta_score` - Score earned by the movie\n",
    "- `Director` - Name of the Director\n",
    "- `Star1,Star2,Star3,Star4` - Name of the Stars\n",
    "- `Noofvotes` - Total number of votes\n",
    "- `Gross` - Money earned by that movie"
   ]
  },
  {
   "cell_type": "markdown",
   "id": "b97e9335",
   "metadata": {},
   "source": [
    "### What is the current data type of each column? Are there columns having `inappropriate data types`?"
   ]
  },
  {
   "cell_type": "code",
   "execution_count": 14,
   "id": "af847875",
   "metadata": {},
   "outputs": [],
   "source": [
    "def open_object_dtype(s):\n",
    "    dtypes = set(s.apply(type))\n",
    "    return dtypes"
   ]
  },
  {
   "cell_type": "code",
   "execution_count": 15,
   "id": "8b5833d7",
   "metadata": {},
   "outputs": [
    {
     "name": "stdout",
     "output_type": "stream",
     "text": [
      "PosterLink :{<class 'str'>}\n",
      "SeriesTitle :{<class 'str'>}\n",
      "ReleasedYear :{<class 'int'>}\n",
      "Certificate :{<class 'str'>}\n",
      "Runtime :{<class 'str'>}\n",
      "Genre :{<class 'str'>}\n",
      "IMDBRating :{<class 'float'>}\n",
      "Overview :{<class 'str'>}\n",
      "Meta_score :{<class 'float'>}\n",
      "Director :{<class 'str'>}\n",
      "Star1,Star2,Star3,Star4 :{<class 'str'>}\n",
      "Noofvotes :{<class 'int'>}\n",
      "Gross :{<class 'int'>}\n"
     ]
    }
   ],
   "source": [
    "print('PosterLink :' + str(open_object_dtype(movies['Poster_Link'])))\n",
    "print('SeriesTitle :' + str(open_object_dtype(movies['Series_Title'])))\n",
    "print('ReleasedYear :' + str(open_object_dtype(movies['Released_Year'])))\n",
    "print('Certificate :' + str(open_object_dtype(movies['Certificate'])))\n",
    "print('Runtime :' + str(open_object_dtype(movies['Runtime'])))\n",
    "print('Genre :' + str(open_object_dtype(movies['Genre'])))\n",
    "print('IMDBRating :' + str(open_object_dtype(movies['IMDB_Rating'])))\n",
    "print('Overview :' + str(open_object_dtype(movies['Overview'])))\n",
    "print('Meta_score :' + str(open_object_dtype(movies['Meta_score'])))\n",
    "print('Director :' + str(open_object_dtype(movies['Director'])))\n",
    "print('Star1,Star2,Star3,Star4 :' + str(open_object_dtype(movies['Star1'])))\n",
    "print('Noofvotes :' + str(open_object_dtype(movies['No_of_Votes'])))\n",
    "print('Gross :' + str(open_object_dtype(movies['Gross'])))"
   ]
  },
  {
   "cell_type": "markdown",
   "id": "818e8074",
   "metadata": {},
   "source": [
    "- As we can see, none of these columns having inappropriate data types. But i'll convert `Released_Year` column to int for later use.\n",
    "- While converting, i found a value named \"PG\", it's from the movie named \"Apolo 13\", i dont know what it's mean, so I went to check the release year of that movie and replace that value."
   ]
  },
  {
   "cell_type": "code",
   "execution_count": 7,
   "id": "a7f1f64c",
   "metadata": {},
   "outputs": [
    {
     "name": "stdout",
     "output_type": "stream",
     "text": [
      "ReleasedYear :{<class 'int'>}\n"
     ]
    }
   ],
   "source": [
    "movies.loc[:,'Released_Year'].replace('PG',1995,inplace=True)\n",
    "movies.loc[:,'Released_Year'] = movies.loc[:,'Released_Year'].astype(int)\n",
    "print('ReleasedYear :' + str(open_object_dtype(movies['Released_Year'])))"
   ]
  },
  {
   "cell_type": "markdown",
   "id": "741b155c",
   "metadata": {},
   "source": [
    "### With each numerical column, how are values distributed? - What is the percentage of missing values? - Min? max? Are they abnormal?"
   ]
  },
  {
   "cell_type": "markdown",
   "id": "1f26a7c0",
   "metadata": {},
   "source": [
    "- I arrange `IMDBRating`, `Meta_score`, `Noofvotes`, `Gross`, `Released_Year`  column into numerical group.\n",
    "- i'll count the percentage of missing, min, max values."
   ]
  },
  {
   "cell_type": "code",
   "execution_count": 8,
   "id": "a6a02ab3",
   "metadata": {},
   "outputs": [
    {
     "data": {
      "text/html": [
       "<div>\n",
       "<style scoped>\n",
       "    .dataframe tbody tr th:only-of-type {\n",
       "        vertical-align: middle;\n",
       "    }\n",
       "\n",
       "    .dataframe tbody tr th {\n",
       "        vertical-align: top;\n",
       "    }\n",
       "\n",
       "    .dataframe thead th {\n",
       "        text-align: right;\n",
       "    }\n",
       "</style>\n",
       "<table border=\"1\" class=\"dataframe\">\n",
       "  <thead>\n",
       "    <tr style=\"text-align: right;\">\n",
       "      <th></th>\n",
       "      <th>IMDB_Rating</th>\n",
       "      <th>Meta_score</th>\n",
       "      <th>No_of_Votes</th>\n",
       "      <th>Gross</th>\n",
       "      <th>Released_Year</th>\n",
       "    </tr>\n",
       "  </thead>\n",
       "  <tbody>\n",
       "    <tr>\n",
       "      <th>missing_ratio</th>\n",
       "      <td>0.0</td>\n",
       "      <td>15.7</td>\n",
       "      <td>0.0</td>\n",
       "      <td>0.0</td>\n",
       "      <td>0.0</td>\n",
       "    </tr>\n",
       "    <tr>\n",
       "      <th>min</th>\n",
       "      <td>7.6</td>\n",
       "      <td>28.0</td>\n",
       "      <td>25088.0</td>\n",
       "      <td>1305.0</td>\n",
       "      <td>1920.0</td>\n",
       "    </tr>\n",
       "    <tr>\n",
       "      <th>max</th>\n",
       "      <td>9.3</td>\n",
       "      <td>100.0</td>\n",
       "      <td>2343110.0</td>\n",
       "      <td>936662225.0</td>\n",
       "      <td>2020.0</td>\n",
       "    </tr>\n",
       "  </tbody>\n",
       "</table>\n",
       "</div>"
      ],
      "text/plain": [
       "               IMDB_Rating  Meta_score  No_of_Votes        Gross  \\\n",
       "missing_ratio          0.0        15.7          0.0          0.0   \n",
       "min                    7.6        28.0      25088.0       1305.0   \n",
       "max                    9.3       100.0    2343110.0  936662225.0   \n",
       "\n",
       "               Released_Year  \n",
       "missing_ratio            0.0  \n",
       "min                   1920.0  \n",
       "max                   2020.0  "
      ]
     },
     "execution_count": 8,
     "metadata": {},
     "output_type": "execute_result"
    }
   ],
   "source": [
    "missing = []\n",
    "missing.append(round(movies.loc[:,'IMDB_Rating'].isna().sum() / movies.loc[:,'IMDB_Rating'].size * 100,3))\n",
    "missing.append(round(movies.loc[:,'Meta_score'].isna().sum() / movies.loc[:,'Meta_score'].size * 100,3))\n",
    "missing.append(round(movies.loc[:,'No_of_Votes'].isna().sum() / movies.loc[:,'No_of_Votes'].size * 100,3))\n",
    "missing.append(round(movies.loc[:,'Gross'].isna().sum() / movies.loc[:,'Gross'].size * 100,3))\n",
    "missing.append(round(movies.loc[:,'Released_Year'].isna().sum() / movies.loc[:,'Released_Year'].size * 100,3))\n",
    "\n",
    "minval = []\n",
    "minval.append(movies.loc[:,'IMDB_Rating'].min())\n",
    "minval.append(movies.loc[:,'Meta_score'].min())\n",
    "minval.append(movies.loc[:,'No_of_Votes'].min())\n",
    "minval.append(movies.loc[:,'Gross'].min())\n",
    "minval.append(movies.loc[:,'Released_Year'].min())\n",
    "\n",
    "maxval = []\n",
    "maxval.append(movies.loc[:,'IMDB_Rating'].max())\n",
    "maxval.append(movies.loc[:,'Meta_score'].max())\n",
    "maxval.append(movies.loc[:,'No_of_Votes'].max())\n",
    "maxval.append(movies.loc[:,'Gross'].max())\n",
    "maxval.append(movies.loc[:,'Released_Year'].max())\n",
    "\n",
    "pd.DataFrame([missing,minval,maxval],index=[\"missing_ratio\", \"min\", \"max\"],columns=[\"IMDB_Rating\", \"Meta_score\", \"No_of_Votes\", \"Gross\", \"Released_Year\"])"
   ]
  },
  {
   "cell_type": "markdown",
   "id": "cf552fdd",
   "metadata": {},
   "source": [
    "### With each categorical column, how are values distributed? - What is the percentage of missing values? - How many different values? Show a few. Are they abnormal?"
   ]
  },
  {
   "cell_type": "markdown",
   "id": "b4a5fd85",
   "metadata": {},
   "source": [
    "- I arrange remaining columns into categorical group."
   ]
  },
  {
   "cell_type": "code",
   "execution_count": 9,
   "id": "c9bed06a",
   "metadata": {},
   "outputs": [
    {
     "data": {
      "text/html": [
       "<div>\n",
       "<style scoped>\n",
       "    .dataframe tbody tr th:only-of-type {\n",
       "        vertical-align: middle;\n",
       "    }\n",
       "\n",
       "    .dataframe tbody tr th {\n",
       "        vertical-align: top;\n",
       "    }\n",
       "\n",
       "    .dataframe thead th {\n",
       "        text-align: right;\n",
       "    }\n",
       "</style>\n",
       "<table border=\"1\" class=\"dataframe\">\n",
       "  <thead>\n",
       "    <tr style=\"text-align: right;\">\n",
       "      <th></th>\n",
       "      <th>Poster_Link</th>\n",
       "      <th>Series_Title</th>\n",
       "      <th>Certificate</th>\n",
       "      <th>Runtime</th>\n",
       "      <th>Genre</th>\n",
       "      <th>Overview</th>\n",
       "      <th>Director</th>\n",
       "      <th>Star1</th>\n",
       "      <th>Star2</th>\n",
       "      <th>Star3</th>\n",
       "      <th>Star4</th>\n",
       "    </tr>\n",
       "  </thead>\n",
       "  <tbody>\n",
       "    <tr>\n",
       "      <th>Missing_ratio</th>\n",
       "      <td>0.0</td>\n",
       "      <td>0.0</td>\n",
       "      <td>0.0</td>\n",
       "      <td>0.0</td>\n",
       "      <td>0.0</td>\n",
       "      <td>0.0</td>\n",
       "      <td>0.0</td>\n",
       "      <td>0.0</td>\n",
       "      <td>0.0</td>\n",
       "      <td>0.0</td>\n",
       "      <td>0.0</td>\n",
       "    </tr>\n",
       "    <tr>\n",
       "      <th>Unique</th>\n",
       "      <td>1000</td>\n",
       "      <td>999</td>\n",
       "      <td>15</td>\n",
       "      <td>140</td>\n",
       "      <td>14</td>\n",
       "      <td>1000</td>\n",
       "      <td>548</td>\n",
       "      <td>660</td>\n",
       "      <td>841</td>\n",
       "      <td>891</td>\n",
       "      <td>939</td>\n",
       "    </tr>\n",
       "    <tr>\n",
       "      <th>Diff_val</th>\n",
       "      <td>[https://m.media-amazon.com/images/M/MV5BMDFkY...</td>\n",
       "      <td>[The Shawshank Redemption, The Godfather, The ...</td>\n",
       "      <td>[A, UA, U, PG-13, R, PG, G, Passed, TV-14, TV-...</td>\n",
       "      <td>[142 min, 175 min, 152 min, 202 min, 96 min, 2...</td>\n",
       "      <td>[Drama, Crime, Action, Biography, Western, Com...</td>\n",
       "      <td>[Two imprisoned men bond over a number of year...</td>\n",
       "      <td>[Frank Darabont, Francis Ford Coppola, Christo...</td>\n",
       "      <td>[Tim Robbins, Marlon Brando, Christian Bale, A...</td>\n",
       "      <td>[Morgan Freeman, Al Pacino, Heath Ledger, Robe...</td>\n",
       "      <td>[Bob Gunton, James Caan, Aaron Eckhart, Robert...</td>\n",
       "      <td>[William Sadler, Diane Keaton, Michael Caine, ...</td>\n",
       "    </tr>\n",
       "  </tbody>\n",
       "</table>\n",
       "</div>"
      ],
      "text/plain": [
       "                                                     Poster_Link  \\\n",
       "Missing_ratio                                                0.0   \n",
       "Unique                                                      1000   \n",
       "Diff_val       [https://m.media-amazon.com/images/M/MV5BMDFkY...   \n",
       "\n",
       "                                                    Series_Title  \\\n",
       "Missing_ratio                                                0.0   \n",
       "Unique                                                       999   \n",
       "Diff_val       [The Shawshank Redemption, The Godfather, The ...   \n",
       "\n",
       "                                                     Certificate  \\\n",
       "Missing_ratio                                                0.0   \n",
       "Unique                                                        15   \n",
       "Diff_val       [A, UA, U, PG-13, R, PG, G, Passed, TV-14, TV-...   \n",
       "\n",
       "                                                         Runtime  \\\n",
       "Missing_ratio                                                0.0   \n",
       "Unique                                                       140   \n",
       "Diff_val       [142 min, 175 min, 152 min, 202 min, 96 min, 2...   \n",
       "\n",
       "                                                           Genre  \\\n",
       "Missing_ratio                                                0.0   \n",
       "Unique                                                        14   \n",
       "Diff_val       [Drama, Crime, Action, Biography, Western, Com...   \n",
       "\n",
       "                                                        Overview  \\\n",
       "Missing_ratio                                                0.0   \n",
       "Unique                                                      1000   \n",
       "Diff_val       [Two imprisoned men bond over a number of year...   \n",
       "\n",
       "                                                        Director  \\\n",
       "Missing_ratio                                                0.0   \n",
       "Unique                                                       548   \n",
       "Diff_val       [Frank Darabont, Francis Ford Coppola, Christo...   \n",
       "\n",
       "                                                           Star1  \\\n",
       "Missing_ratio                                                0.0   \n",
       "Unique                                                       660   \n",
       "Diff_val       [Tim Robbins, Marlon Brando, Christian Bale, A...   \n",
       "\n",
       "                                                           Star2  \\\n",
       "Missing_ratio                                                0.0   \n",
       "Unique                                                       841   \n",
       "Diff_val       [Morgan Freeman, Al Pacino, Heath Ledger, Robe...   \n",
       "\n",
       "                                                           Star3  \\\n",
       "Missing_ratio                                                0.0   \n",
       "Unique                                                       891   \n",
       "Diff_val       [Bob Gunton, James Caan, Aaron Eckhart, Robert...   \n",
       "\n",
       "                                                           Star4  \n",
       "Missing_ratio                                                0.0  \n",
       "Unique                                                       939  \n",
       "Diff_val       [William Sadler, Diane Keaton, Michael Caine, ...  "
      ]
     },
     "execution_count": 9,
     "metadata": {},
     "output_type": "execute_result"
    }
   ],
   "source": [
    "missing = []\n",
    "missing.append(round(movies.loc[:,'Poster_Link'].isna().sum() / movies.loc[:,'Poster_Link'].size * 100,3))\n",
    "missing.append(round(movies.loc[:,'Series_Title'].isna().sum() / movies.loc[:,'Series_Title'].size * 100,3))\n",
    "missing.append(round(movies.loc[:,'Certificate'].isna().sum() / movies.loc[:,'Certificate'].size * 100,3))\n",
    "missing.append(round(movies.loc[:,'Runtime'].isna().sum() / movies.loc[:,'Runtime'].size * 100,3))\n",
    "missing.append(round(movies.loc[:,'Genre'].isna().sum() / movies.loc[:,'Genre'].size * 100,3))\n",
    "missing.append(round(movies.loc[:,'Overview'].isna().sum() / movies.loc[:,'Overview'].size * 100,3))\n",
    "missing.append(round(movies.loc[:,'Director'].isna().sum() / movies.loc[:,'Director'].size * 100,3))\n",
    "missing.append(round(movies.loc[:,'Star1'].isna().sum() / movies.loc[:,'Star1'].size * 100,3))\n",
    "missing.append(round(movies.loc[:,'Star2'].isna().sum() / movies.loc[:,'Star2'].size * 100,3))\n",
    "missing.append(round(movies.loc[:,'Star3'].isna().sum() / movies.loc[:,'Star3'].size * 100,3))\n",
    "missing.append(round(movies.loc[:,'Star4'].isna().sum() / movies.loc[:,'Star4'].size * 100,3))\n",
    "\n",
    "unique = []\n",
    "unique.append(movies.loc[:,'Poster_Link'].nunique(dropna=True))\n",
    "unique.append(movies.loc[:,'Series_Title'].nunique(dropna=True))\n",
    "unique.append(movies.loc[:,'Certificate'].nunique(dropna=True))\n",
    "unique.append(movies.loc[:,'Runtime'].nunique(dropna=True))\n",
    "unique.append(movies.loc[:,'Genre'].nunique(dropna=True))\n",
    "unique.append(movies.loc[:,'Overview'].nunique(dropna=True))\n",
    "unique.append(movies.loc[:,'Director'].nunique(dropna=True))\n",
    "unique.append(movies.loc[:,'Star1'].nunique(dropna=True))\n",
    "unique.append(movies.loc[:,'Star2'].nunique(dropna=True))\n",
    "unique.append(movies.loc[:,'Star3'].nunique(dropna=True))\n",
    "unique.append(movies.loc[:,'Star4'].nunique(dropna=True))\n",
    "\n",
    "diff_val = []\n",
    "diff_val.append(movies.loc[:,'Poster_Link'].dropna().unique())\n",
    "diff_val.append(movies.loc[:,'Series_Title'].dropna().unique())\n",
    "diff_val.append(movies.loc[:,'Certificate'].dropna().unique())\n",
    "diff_val.append(movies.loc[:,'Runtime'].dropna().unique())\n",
    "diff_val.append(movies.loc[:,'Genre'].dropna().unique())\n",
    "diff_val.append(movies.loc[:,'Overview'].dropna().unique())\n",
    "diff_val.append(movies.loc[:,'Director'].dropna().unique())\n",
    "diff_val.append(movies.loc[:,'Star1'].dropna().unique())\n",
    "diff_val.append(movies.loc[:,'Star2'].dropna().unique())\n",
    "diff_val.append(movies.loc[:,'Star3'].dropna().unique())\n",
    "diff_val.append(movies.loc[:,'Star4'].dropna().unique())\n",
    "\n",
    "pd.DataFrame([missing,unique,diff_val],index=[\"Missing_ratio\",\"Unique\",'Diff_val'],columns=[\"Poster_Link\",\"Series_Title\",\"Certificate\",\"Runtime\",\"Genre\",\"Overview\",\"Director\",\"Star1\",\"Star2\",\"Star3\",\"Star4\"])"
   ]
  },
  {
   "cell_type": "markdown",
   "id": "34cc634e",
   "metadata": {},
   "source": [
    "- These values are normal."
   ]
  },
  {
   "cell_type": "markdown",
   "id": "afde7c0d",
   "metadata": {},
   "source": [
    "## 3. Asking meaningful questions\n",
    "\n",
    "Your group needs to give ≥ `the-number-of-group-members`\n",
    "questions which can be answered with this data.\n",
    "\n",
    "Each question should be `meaningful` (what are benefits of finding\n",
    "the answer?) and `not too easy to answer` (e.g., it’s too easy if\n",
    "we just need one line of code to get the answer). \n",
    "\n",
    "Your group should focus more on `the quality of questions` than\n",
    "the quantity.\n",
    "\n",
    "In notebook file, with each question, your group needs to\n",
    "present:\n",
    "\n",
    "• What are the question?\n",
    "- Which genres give out most total gross and least in total.\n",
    "- How favorite customer genres trend differ over time?\n",
    "\n",
    "\n",
    "• What are benefits of finding the answer?\n",
    "- To examine which genre should filmmakers invest in.\n",
    "- To examine which genres in the near future should filmmakers concentrate on."
   ]
  },
  {
   "cell_type": "markdown",
   "id": "125cf63f",
   "metadata": {},
   "source": [
    "## 4. Preprocessing + analyzing data to answer each question\n",
    "\n",
    "With each question:\n",
    "\n",
    "• Does it need to have preprocessing step, and if yes,\n",
    "how does your group preprocess?\n",
    "\n",
    "    • Text: sketch steps clearly so that readers can\n",
    "    understand how your group preprocesses even without\n",
    "    reading code\n",
    "\n",
    "    • Code: implement sketched steps. Your group should\n",
    "    also try to write code clearly (choose good variable\n",
    "    names, comment where should be commented, don’t\n",
    "    let a line too long)\n",
    "\n",
    "• How does your group analyze data to answer the\n",
    "question?"
   ]
  },
  {
   "cell_type": "markdown",
   "id": "14537399",
   "metadata": {},
   "source": [
    "**Q1: Which genres give out most total gross and least in total?**\n",
    "\n",
    "Step by step\n",
    "- Group by genres.\n",
    "- Find largest gross of a specific genre.\n",
    "- Find smallest gross of a specific genre."
   ]
  },
  {
   "cell_type": "code",
   "execution_count": 10,
   "id": "fe48771d",
   "metadata": {},
   "outputs": [
    {
     "data": {
      "text/html": [
       "<div>\n",
       "<style scoped>\n",
       "    .dataframe tbody tr th:only-of-type {\n",
       "        vertical-align: middle;\n",
       "    }\n",
       "\n",
       "    .dataframe tbody tr th {\n",
       "        vertical-align: top;\n",
       "    }\n",
       "\n",
       "    .dataframe thead th {\n",
       "        text-align: right;\n",
       "    }\n",
       "</style>\n",
       "<table border=\"1\" class=\"dataframe\">\n",
       "  <thead>\n",
       "    <tr style=\"text-align: right;\">\n",
       "      <th></th>\n",
       "      <th>Poster_Link</th>\n",
       "      <th>Series_Title</th>\n",
       "      <th>Released_Year</th>\n",
       "      <th>Certificate</th>\n",
       "      <th>Runtime</th>\n",
       "      <th>Genre</th>\n",
       "      <th>IMDB_Rating</th>\n",
       "      <th>Overview</th>\n",
       "      <th>Meta_score</th>\n",
       "      <th>Director</th>\n",
       "      <th>Star1</th>\n",
       "      <th>Star2</th>\n",
       "      <th>Star3</th>\n",
       "      <th>Star4</th>\n",
       "      <th>No_of_Votes</th>\n",
       "      <th>Gross</th>\n",
       "    </tr>\n",
       "  </thead>\n",
       "  <tbody>\n",
       "    <tr>\n",
       "      <th>735</th>\n",
       "      <td>https://m.media-amazon.com/images/M/MV5BMTgwNT...</td>\n",
       "      <td>Kai po che!</td>\n",
       "      <td>2013</td>\n",
       "      <td>U</td>\n",
       "      <td>130 min</td>\n",
       "      <td>Drama</td>\n",
       "      <td>7.7</td>\n",
       "      <td>Three friends growing up in India at the turn ...</td>\n",
       "      <td>40.0</td>\n",
       "      <td>Abhishek Kapoor</td>\n",
       "      <td>Amit Sadh</td>\n",
       "      <td>Sushant Singh Rajput</td>\n",
       "      <td>Rajkummar Rao</td>\n",
       "      <td>Amrita Puri</td>\n",
       "      <td>32628</td>\n",
       "      <td>1122527</td>\n",
       "    </tr>\n",
       "  </tbody>\n",
       "</table>\n",
       "</div>"
      ],
      "text/plain": [
       "                                           Poster_Link Series_Title  \\\n",
       "735  https://m.media-amazon.com/images/M/MV5BMTgwNT...  Kai po che!   \n",
       "\n",
       "     Released_Year Certificate  Runtime  Genre  IMDB_Rating  \\\n",
       "735           2013           U  130 min  Drama          7.7   \n",
       "\n",
       "                                              Overview  Meta_score  \\\n",
       "735  Three friends growing up in India at the turn ...        40.0   \n",
       "\n",
       "            Director      Star1                 Star2          Star3  \\\n",
       "735  Abhishek Kapoor  Amit Sadh  Sushant Singh Rajput  Rajkummar Rao   \n",
       "\n",
       "           Star4  No_of_Votes    Gross  \n",
       "735  Amrita Puri        32628  1122527  "
      ]
     },
     "execution_count": 10,
     "metadata": {},
     "output_type": "execute_result"
    }
   ],
   "source": [
    "movies.sample(1)"
   ]
  },
  {
   "cell_type": "code",
   "execution_count": 27,
   "id": "7966196b",
   "metadata": {},
   "outputs": [
    {
     "name": "stdout",
     "output_type": "stream",
     "text": [
      "Movie with the largest gross:  Action ( 20993376429 USD )\n",
      "Movie with the smallest gross:  Film-Noir ( 2894356 USD )\n"
     ]
    }
   ],
   "source": [
    "groupby_genre_totalGross = movies.groupby('Genre')['Gross'].sum()\n",
    "genre_max_gross = groupby_genre_totalGross[groupby_genre_totalGross == groupby_genre_totalGross.max()]\n",
    "genre_min_gross = groupby_genre_totalGross[groupby_genre_totalGross == groupby_genre_totalGross.min()]\n",
    "\n",
    "print('Movie with the largest gross: ', genre_max_gross.index[0], '(', genre_max_gross.values[0], 'USD', ')')\n",
    "print('Movie with the smallest gross: ', genre_min_gross.index[0], '(', genre_min_gross.values[0], 'USD', ')')"
   ]
  },
  {
   "cell_type": "markdown",
   "id": "485ccc5c",
   "metadata": {},
   "source": [
    "These are the largest and lowest gross of the movie which sorted by genres. But the question asked to find genres, so ill find the ratio of the total gross of each film genre, then choose 3 genres filmmakers should focus in."
   ]
  },
  {
   "cell_type": "code",
   "execution_count": 29,
   "id": "86cb5731",
   "metadata": {},
   "outputs": [
    {
     "data": {
      "image/png": "[encoded data removed]",
      "text/plain": [
       "<Figure size 800x800 with 1 Axes>"
      ]
     },
     "metadata": {},
     "output_type": "display_data"
    }
   ],
   "source": [
    "df = groupby_genre_totalGross.sort_values()\n",
    "temp = pd.Series([df.head(8).sum()],index = ['8 other genres'])\n",
    "df = df.add(temp, fill_value=0)\n",
    "df = df.sort_values().tail(7)\n",
    "\n",
    "ax = df.plot.pie(figsize=(8, 8),autopct='%1.1f%%',title ='asd',fontsize = 18)\n",
    "ax.set_ylabel('');\n",
    "ax.set_title('The ratio of the total gross of each film genre',fontsize =22);"
   ]
  },
  {
   "cell_type": "code",
   "execution_count": 13,
   "id": "ffadcdcb",
   "metadata": {
    "scrolled": true
   },
   "outputs": [
    {
     "name": "stdout",
     "output_type": "stream",
     "text": [
      "4 genres show out the lowest gross\n",
      "Genre\n",
      "Film-Noir     2894356\n",
      "Fantasy      10539940\n",
      "Thriller     17550741\n",
      "Western      58221508\n",
      "Name: Gross, dtype: int64\n"
     ]
    }
   ],
   "source": [
    "print(\"4 genres show out the lowest gross\")\n",
    "print(groupby_genre_totalGross.sort_values().head(4))"
   ]
  },
  {
   "cell_type": "markdown",
   "id": "3974ba2c",
   "metadata": {},
   "source": [
    "**Assessing:**\n",
    "- As a director, to maximize revenue, they need to focus on investing in movie genres such as `Animation`, `Drama`, `Action`. These 3 genres account for more than 50% of the total gross.\n",
    "- If genres like `Fantasy`, `Thriller`, `Western` are not their forte, filmmakers should avoid going into the mess they can take. (Not to mention Film-Noir because this genre is outdated)."
   ]
  },
  {
   "cell_type": "markdown",
   "id": "a7be7d94",
   "metadata": {},
   "source": [
    "**Q2: How favorite customer genres trend differ over time?**\n",
    "\n"
   ]
  }
 ],
 "metadata": {
  "kernelspec": {
   "display_name": "Python 3 (ipykernel)",
   "language": "python",
   "name": "python3"
  },
  "language_info": {
   "codemirror_mode": {
    "name": "ipython",
    "version": 3
   },
   "file_extension": ".py",
   "mimetype": "text/x-python",
   "name": "python",
   "nbconvert_exporter": "python",
   "pygments_lexer": "ipython3",
   "version": "3.8.8"
  },
  "vscode": {
   "interpreter": {
    "hash": "d8637b2d14e494f312b39aa871f2af65d3d2b48ddd90511db6d4b7e39b372fab"
   }
  }
 },
 "nbformat": 4,
 "nbformat_minor": 5
}
